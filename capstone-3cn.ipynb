{
 "cells": [
  {
   "cell_type": "markdown",
   "id": "6b720580207dc9fe",
   "metadata": {},
   "source": [
    "## Data Cleaning and Loading Step\n",
    "\n",
    "- Loaded the CSV file containing imatinib assay data with pandas.\n",
    "- Initial read errors were caused by inconsistent delimiters and extra quotes in the file.\n",
    "- Used the `sep=';'` parameter to correctly parse the semicolon-separated values.\n",
    "- Removed surrounding quotes from column headers and string values to clean the dataset.\n",
    "- Converted data types implicitly by pandas, with some numeric columns still as strings; further conversion may be needed.\n",
    "- Checked dataset dimensions: (248 rows, 48 columns).\n",
    "- Verified the first few rows for correctness and consistency.\n",
    "- Resolved common tokenization errors by specifying correct delimiters and using the Python engine in `read_csv`.\n",
    "\n",
    "This step ensures the dataset is clean, well-structured, and ready for analysis or modeling.\n"
   ]
  },
  {
   "cell_type": "code",
   "execution_count": null,
   "id": "3335da7eab821a10",
   "metadata": {
    "ExecuteTime": {
     "end_time": "2025-08-09T19:10:23.554145Z",
     "start_time": "2025-08-09T19:10:23.449549Z"
    }
   },
   "outputs": [
    {
     "ename": "",
     "evalue": "",
     "output_type": "error",
     "traceback": [
      "\u001b[1;31mRunning cells with 'Python 3.11.9' requires the ipykernel package.\n",
      "\u001b[1;31m<a href='command:jupyter.createPythonEnvAndSelectController'>Create a Python Environment</a> with the required packages."
     ]
    }
   ],
   "source": [
    "import pandas as pd\n",
    "\n",
    "file_path = r\"C:\\Users\\aryan\\Downloads\\DOWNLOAD-123PGkwNz0F5D2N1bOH-dO2T4_X6xWvMO7n8RNk-wRs_eq_\\imatinib(2).csv\"\n",
    "\n",
    "df = pd.read_csv(file_path,\n",
    "                 sep=';',\n",
    "                 quotechar='\"',    # correctly handle quoted fields\n",
    "                 engine='python',\n",
    "                 on_bad_lines='skip')\n",
    "\n",
    "# Strip quotes from column names\n",
    "df.columns = df.columns.str.strip('\"')\n",
    "\n",
    "# Also strip quotes from string-type columns (optional but neat)\n",
    "for col in df.select_dtypes(include='object').columns:\n",
    "    df[col] = df[col].str.strip('\"')\n",
    "\n",
    "print(df.shape)\n",
    "print(df.columns)\n",
    "print(df.head())\n",
    "\n"
   ]
  },
  {
   "cell_type": "markdown",
   "id": "333058ac56a43f62",
   "metadata": {},
   "source": [
    "## Data Cleaning & Summary Step\n",
    "\n",
    "Checked for missing values across all columns.\n",
    "\n",
    "Found substantial missing data in columns like Data Validity Comment, Comment, and assay/tissue related fields.\n",
    "\n",
    "Numeric columns such as Standard Value, pChEMBL Value, and ligand efficiencies have varying counts due to missing data.\n",
    "\n",
    "Basic descriptive statistics obtained for numeric columns:\n",
    "\n",
    "Molecular Weight stable around 493.62.\n",
    "\n",
    "Standard Value ranges widely (0.06 to 500000).\n",
    "\n",
    "pChEMBL Value varies between ~4.1 to 10.22.\n",
    "\n",
    "Filtered dataset for records with Standard Type equal to IC50: 248 records"
   ]
  },
  {
   "cell_type": "code",
   "execution_count": 3,
   "id": "9e21da6f1d7af308",
   "metadata": {
    "ExecuteTime": {
     "end_time": "2025-08-09T19:10:26.334935Z",
     "start_time": "2025-08-09T19:10:26.304948Z"
    }
   },
   "outputs": [
    {
     "name": "stdout",
     "output_type": "stream",
     "text": [
      "Missing values per column:\n",
      " Molecule ChEMBL ID              0\n",
      "Molecule Name                   2\n",
      "Molecule Max Phase              2\n",
      "Molecular Weight                0\n",
      "#RO5 Violations                 0\n",
      "AlogP                           0\n",
      "Compound Key                    0\n",
      "Smiles                          0\n",
      "Standard Type                   0\n",
      "Standard Relation              17\n",
      "Standard Value                 15\n",
      "Standard Units                 15\n",
      "pChEMBL Value                  50\n",
      "Data Validity Comment         246\n",
      "Comment                       228\n",
      "Uo Units                       15\n",
      "Ligand Efficiency BEI         135\n",
      "Ligand Efficiency LE          135\n",
      "Ligand Efficiency LLE         135\n",
      "Ligand Efficiency SEI         135\n",
      "Potential Duplicate             0\n",
      "Assay ChEMBL ID                 0\n",
      "Assay Description               0\n",
      "Assay Type                      0\n",
      "BAO Format ID                   0\n",
      "BAO Label                       0\n",
      "Assay Organism                 29\n",
      "Assay Tissue ChEMBL ID        247\n",
      "Assay Tissue Name             247\n",
      "Assay Cell Type               116\n",
      "Assay Subcellular Fraction    247\n",
      "Assay Parameters              248\n",
      "Assay Variant Accession       213\n",
      "Assay Variant Mutation        211\n",
      "Target ChEMBL ID                0\n",
      "Target Name                     0\n",
      "Target Organism                89\n",
      "Target Type                     0\n",
      "Document ChEMBL ID              0\n",
      "Source ID                       0\n",
      "Source Description              0\n",
      "Document Journal               17\n",
      "Document Year                  10\n",
      "Cell ChEMBL ID                138\n",
      "Properties                    237\n",
      "Action Type                   213\n",
      "Standard Text Value           248\n",
      "Value                          15\n",
      "dtype: int64\n",
      "       Molecule Max Phase  Molecular Weight  #RO5 Violations         AlogP  \\\n",
      "count               246.0        248.000000            248.0  2.480000e+02   \n",
      "mean                  4.0        496.356774              0.0  4.590000e+00   \n",
      "std                   0.0         15.946150              0.0  1.779949e-15   \n",
      "min                   4.0        493.620000              0.0  4.590000e+00   \n",
      "25%                   4.0        493.620000              0.0  4.590000e+00   \n",
      "50%                   4.0        493.620000              0.0  4.590000e+00   \n",
      "75%                   4.0        493.620000              0.0  4.590000e+00   \n",
      "max                   4.0        589.720000              0.0  4.590000e+00   \n",
      "\n",
      "       Standard Value  pChEMBL Value  Ligand Efficiency BEI  \\\n",
      "count      233.000000     198.000000             113.000000   \n",
      "mean     11282.377253       6.308788              13.515487   \n",
      "std      39465.710119       0.976456               1.764160   \n",
      "min          0.060000       4.130000               8.370000   \n",
      "25%        188.000000       5.575000              12.790000   \n",
      "50%        500.000000       6.445000              13.430000   \n",
      "75%       5600.000000       6.927500              14.200000   \n",
      "max     500000.000000      10.220000              20.710000   \n",
      "\n",
      "       Ligand Efficiency LE  Ligand Efficiency LLE  Ligand Efficiency SEI  \\\n",
      "count            113.000000             113.000000             113.000000   \n",
      "mean               0.246637               2.082035               7.732301   \n",
      "std                0.032088               0.870587               1.008738   \n",
      "min                0.150000              -0.460000               4.790000   \n",
      "25%                0.230000               1.720000               7.320000   \n",
      "50%                0.240000               2.040000               7.690000   \n",
      "75%                0.260000               2.420000               8.120000   \n",
      "max                0.380000               5.630000              11.850000   \n",
      "\n",
      "       Potential Duplicate  Assay Parameters   Source ID  Document Year  \\\n",
      "count           248.000000               0.0  248.000000     238.000000   \n",
      "mean              0.068548               NaN    3.008065    2013.159664   \n",
      "std               0.253196               NaN    8.307351       5.443973   \n",
      "min               0.000000               NaN    1.000000    1997.000000   \n",
      "25%               0.000000               NaN    1.000000    2010.000000   \n",
      "50%               0.000000               NaN    1.000000    2013.000000   \n",
      "75%               0.000000               NaN    1.000000    2018.000000   \n",
      "max               1.000000               NaN   57.000000    2023.000000   \n",
      "\n",
      "       Standard Text Value          Value  \n",
      "count                  0.0     233.000000  \n",
      "mean                   NaN    1487.359889  \n",
      "std                    NaN    8408.431532  \n",
      "min                    NaN       0.000022  \n",
      "25%                    NaN       1.000000  \n",
      "50%                    NaN      19.900000  \n",
      "75%                    NaN     310.000000  \n",
      "max                    NaN  100000.000000  \n",
      "Number of IC50 records: 248\n"
     ]
    }
   ],
   "source": [
    "# Check missing values in each column\n",
    "missing_values = df.isnull().sum()\n",
    "print(\"Missing values per column:\\n\", missing_values)\n",
    "\n",
    "# Summary statistics for numeric columns\n",
    "print(df.describe())\n",
    "\n",
    "# Filter dataset if you want (example: only IC50)\n",
    "ic50_df = df[df['Standard Type'] == 'IC50']\n",
    "\n",
    "# Check how many rows in filtered data\n",
    "print(f\"Number of IC50 records: {len(ic50_df)}\")\n"
   ]
  },
  {
   "cell_type": "markdown",
   "id": "4ad253ef4f44382c",
   "metadata": {},
   "source": [
    "### Data Filtering for IC50 Values\n",
    "\n",
    "- Filtered the dataset to keep only rows where the **Standard Type** is `'IC50'`, as all relevant measurements are of this type.\n",
    "- Removed entries with missing values in the **Smiles** and **Standard Value** columns to ensure data integrity.\n",
    "- Converted the **Standard Value** column to numeric type, coercing errors to NaN and then dropped those rows.\n",
    "- Resulting filtered dataset contains **233** valid records with IC50 values and corresponding molecular structures ready for analysis.\n"
   ]
  },
  {
   "cell_type": "code",
   "execution_count": 4,
   "id": "83e76a936c84d9fd",
   "metadata": {
    "ExecuteTime": {
     "end_time": "2025-08-09T19:10:29.793383Z",
     "start_time": "2025-08-09T19:10:29.743009Z"
    }
   },
   "outputs": [
    {
     "name": "stdout",
     "output_type": "stream",
     "text": [
      "(233, 48)\n"
     ]
    }
   ],
   "source": [
    "df_ic50 = df[df['Standard Type'] == 'IC50']\n",
    "df_ic50 = df_ic50.dropna(subset=['Smiles', 'Standard Value'])\n",
    "df_ic50['Standard Value'] = pd.to_numeric(df_ic50['Standard Value'], errors='coerce')\n",
    "df_ic50 = df_ic50.dropna(subset=['Standard Value'])\n",
    "print(df_ic50.shape)\n"
   ]
  },
  {
   "cell_type": "markdown",
   "id": "b1fbbdcabea09c4b",
   "metadata": {},
   "source": [
    "### Step 3: Generate Morgan Fingerprints\n",
    "\n",
    "In this step, we convert the SMILES strings of the compounds into Morgan fingerprints using RDKit's `GetMorganFingerprintAsBitVect` function with a radius of 2 and 1024 bits. This representation transforms chemical structures into fixed-length binary vectors suitable for machine learning tasks.\n",
    "\n",
    "A new column `fingerprint` is added to the dataset, and any molecules that failed to generate a fingerprint (e.g., invalid SMILES) are removed.\n",
    "\n",
    "> **Note:** A deprecation warning appeared suggesting the use of `MorganGenerator`, which can be safely ignored for now without affecting results.\n"
   ]
  },
  {
   "cell_type": "code",
   "execution_count": 5,
   "id": "1be802b85d34262c",
   "metadata": {
    "ExecuteTime": {
     "end_time": "2025-08-09T19:10:32.868836Z",
     "start_time": "2025-08-09T19:10:32.767137Z"
    }
   },
   "outputs": [
    {
     "name": "stdout",
     "output_type": "stream",
     "text": [
      "(233, 49)\n"
     ]
    }
   ],
   "source": [
    "from rdkit import Chem\n",
    "from rdkit.Chem import AllChem\n",
    "from rdkit import RDLogger\n",
    "\n",
    "# Disable RDKit warnings to avoid flooding notebook outputs\n",
    "RDLogger.DisableLog('rdApp.*')\n",
    "\n",
    "def smiles_to_fp(smiles):\n",
    "    mol = Chem.MolFromSmiles(smiles)\n",
    "    if mol:\n",
    "        return AllChem.GetMorganFingerprintAsBitVect(mol, radius=2, nBits=1024)\n",
    "    return None\n",
    "\n",
    "df_ic50['fingerprint'] = df_ic50['Smiles'].apply(smiles_to_fp)\n",
    "df_ic50 = df_ic50[df_ic50['fingerprint'].notnull()]\n",
    "print(df_ic50.shape)\n"
   ]
  },
  {
   "cell_type": "markdown",
   "id": "dbd1cddc87c7d1bb",
   "metadata": {},
   "source": [
    "## Extracting Unique Targets from IC50 Dataset\n",
    "\n",
    "What it does:\n",
    "\n",
    "Strips any leading or trailing whitespace from the 'Target ChEMBL ID' column to ensure data consistency.\n",
    "\n",
    "Extracts the unique protein target identifiers present in the dataset.\n",
    "\n",
    "Prints the count of unique targets found.\n",
    "\n",
    "Why it matters:\n",
    "\n",
    "Knowing how many distinct targets you have helps you understand the dataset’s scope.\n",
    "\n",
    "This informs your next steps in modeling drug-target interactions by identifying the range of proteins involved."
   ]
  },
  {
   "cell_type": "code",
   "execution_count": 8,
   "id": "bea12fc57d3e625c",
   "metadata": {
    "ExecuteTime": {
     "end_time": "2025-08-09T17:31:23.849804Z",
     "start_time": "2025-08-09T17:31:23.834538Z"
    }
   },
   "outputs": [
    {
     "name": "stdout",
     "output_type": "stream",
     "text": [
      "Unique targets: 32\n"
     ]
    }
   ],
   "source": [
    "df_ic50['Target ChEMBL ID'] = df_ic50['Target ChEMBL ID'].str.strip()\n",
    "unique_targets = df_ic50['Target ChEMBL ID'].unique()\n",
    "print(f\"Unique targets: {len(unique_targets)}\")\n"
   ]
  },
  {
   "cell_type": "markdown",
   "id": "3090745c9c53294b",
   "metadata": {},
   "source": [
    "## Molecular Fingerprint Generation using Morgan Fingerprints\n",
    "\n",
    "In this step, we convert the SMILES representation of each molecule into a fixed-length binary fingerprint vector using the Morgan algorithm (circular fingerprints).\n",
    "\n",
    "- **Purpose:**\n",
    "  To numerically represent chemical structures as binary vectors, capturing the presence or absence of specific molecular substructures (features). This allows machine learning models to interpret chemical similarities and differences.\n",
    "\n",
    "- **Details:**\n",
    "  - Each SMILES string is parsed into an RDKit molecule object.\n",
    "  - Morgan fingerprints are generated with a radius of 2 and a fixed size of 2048 bits.\n",
    "  - The fingerprint is a binary vector where each bit corresponds to a hashed substructure pattern present in the molecule.\n",
    "  - This fixed-length representation ensures uniform input size for downstream machine learning.\n",
    "\n",
    "- **Why Fixed Length (2048 bits)?**\n",
    "  The length balances capturing sufficient molecular detail while keeping computational requirements reasonable. Even smaller molecules yield a full-length fingerprint, though many bits may be zero, indicating fewer substructures.\n",
    "\n",
    "- **Handling Sparse Fingerprints:**\n",
    "  Molecules with fewer features produce sparse fingerprints (many zeros), but this sparsity still provides meaningful distinctions for predictive modeling.\n",
    "\n",
    "- **Outcome:**\n",
    "  The dataset now includes a numerical fingerprint vector for each molecule, ready for use as input features in similarity calculations or machine learning models.\n",
    "\n",
    "- **Note:**\n",
    "  Warnings regarding deprecation of `GetMorganFingerprintAsBitVect` suggest updating to `MorganGenerator` in future RDKit versions, but functionality remains intact for now.\n"
   ]
  },
  {
   "cell_type": "code",
   "execution_count": 6,
   "id": "290cf82dc3f68eaf",
   "metadata": {
    "ExecuteTime": {
     "end_time": "2025-08-09T19:11:10.835668Z",
     "start_time": "2025-08-09T19:11:10.746321Z"
    }
   },
   "outputs": [
    {
     "name": "stdout",
     "output_type": "stream",
     "text": [
      "                                              Smiles  \\\n",
      "0  Cc1ccc(NC(=O)c2ccc(CN3CCN(C)CC3)cc2)cc1Nc1nccc...   \n",
      "1  Cc1ccc(NC(=O)c2ccc(CN3CCN(C)CC3)cc2)cc1Nc1nccc...   \n",
      "2  Cc1ccc(NC(=O)c2ccc(CN3CCN(C)CC3)cc2)cc1Nc1nccc...   \n",
      "3  Cc1ccc(NC(=O)c2ccc(CN3CCN(C)CC3)cc2)cc1Nc1nccc...   \n",
      "4  Cc1ccc(NC(=O)c2ccc(CN3CCN(C)CC3)cc2)cc1Nc1nccc...   \n",
      "\n",
      "                                            fp_array  \n",
      "0  [0, 0, 0, 0, 0, 0, 0, 0, 0, 0, 0, 0, 0, 0, 1, ...  \n",
      "1  [0, 0, 0, 0, 0, 0, 0, 0, 0, 0, 0, 0, 0, 0, 1, ...  \n",
      "2  [0, 0, 0, 0, 0, 0, 0, 0, 0, 0, 0, 0, 0, 0, 1, ...  \n",
      "3  [0, 0, 0, 0, 0, 0, 0, 0, 0, 0, 0, 0, 0, 0, 1, ...  \n",
      "4  [0, 0, 0, 0, 0, 0, 0, 0, 0, 0, 0, 0, 0, 0, 1, ...  \n"
     ]
    }
   ],
   "source": [
    "from rdkit import Chem\n",
    "from rdkit.Chem import AllChem\n",
    "import pandas as pd\n",
    "import numpy as np\n",
    "# Disable RDKit warnings to avoid flooding notebook outputs\n",
    "RDLogger.DisableLog('rdApp.*')\n",
    "\n",
    "# Convert SMILES to RDKit molecule objects\n",
    "df_ic50['mol'] = df_ic50['Smiles'].apply(Chem.MolFromSmiles)\n",
    "\n",
    "# Generate Morgan fingerprints (radius=2, 2048 bits)\n",
    "def mol_to_fp(mol):\n",
    "    if mol:\n",
    "        return AllChem.GetMorganFingerprintAsBitVect(mol, radius=2, nBits=2048)\n",
    "    else:\n",
    "        return np.nan\n",
    "\n",
    "df_ic50['fingerprint'] = df_ic50['mol'].apply(mol_to_fp)\n",
    "\n",
    "# Convert fingerprints to numpy arrays for ML input\n",
    "def fp_to_array(fp):\n",
    "    arr = np.zeros((1,), dtype=int)\n",
    "    if fp:\n",
    "        AllChem.DataStructs.ConvertToNumpyArray(fp, arr)\n",
    "        return arr\n",
    "    else:\n",
    "        return np.nan\n",
    "\n",
    "df_ic50['fp_array'] = df_ic50['fingerprint'].apply(fp_to_array)\n",
    "print(df_ic50[['Smiles', 'fp_array']].head())\n"
   ]
  },
  {
   "cell_type": "markdown",
   "id": "476b91330acc0aed",
   "metadata": {},
   "source": [
    "## Step: Protein Feature Extraction - Amino Acid Composition\n",
    "\n",
    "**Objective:**\n",
    "Convert protein sequences into numeric feature vectors representing the frequency of each amino acid.\n",
    "\n",
    "**Why:**\n",
    "- Machine learning models require numeric inputs.\n",
    "- Protein sequences are text strings; amino acid composition provides a fixed-length, meaningful numeric representation.\n",
    "- Combining protein features with molecular fingerprints enables integrated drug-target interaction modeling.\n",
    "\n",
    "**Method:**\n",
    "- Calculate the relative frequency of each of the 20 standard amino acids in the protein sequence.\n",
    "- Result: A numeric vector of length 20 for each protein.\n",
    "\n",
    "**Output:**\n",
    "- Feature vectors like `[0.085, 0.012, ..., 0.027]` reflecting amino acid frequencies.\n",
    "- These vectors will be combined with molecular fingerprints for predictive modeling.\n",
    "\n",
    "**Next Step:**\n",
    "Map these protein feature vectors back to the dataset and prepare the combined feature matrix for machine learning.\n"
   ]
  },
  {
   "cell_type": "code",
   "execution_count": 10,
   "id": "bca8e03b5f39f921",
   "metadata": {
    "ExecuteTime": {
     "end_time": "2025-08-09T17:31:37.246964Z",
     "start_time": "2025-08-09T17:31:33.197024Z"
    }
   },
   "outputs": [
    {
     "name": "stdout",
     "output_type": "stream",
     "text": [
      "MLEICLKLVGCKSKKGLSSSSSCYLEEALQRPVASDFEPQGLSEAARWNSKENLLAGPSENDPNLFVALYDFVASGDNTLSITKGEKLRVLGYNHNGEWCEAQTKNGQGWVPSNYITPVNSLEKHSWYHGPVSRNAAEYLLSSGINGSFLVRESESSPGQRSISLRYEGRVYHYRINTASDGKLYVSSESRFNTLAELVHHHSTVADGLITTLHYPAPKRNKPTVYGVSPNYDKWEMERTDITMKHKLGGGQYGEVYEGVWKKYSLTVAVKTLKEDTMEVEEFLKEAAVMKEIKHPNLVQLLGVCTREPPFYIITEFMTYGNLLDYLRECNRQEVNAVVLLYMATQISSAMEYLEKKNFIHRDLAARNCLVGENHLVKVADFGLSRLMTGDTYTAHAGAKFPIKWTAPESLAYNKFSIKSDVWAFGVLLWEIATYGMSPYPGIDLSQVYELLEKDYRMERPEGCPEKVYELMRACWQWNPSDRPSFAEIHQAFETMFQESSISDEVEKELGKQGVRGAVSTLLQAPELPTKTRTSRRAAEHRDTTDVPEMPHSKGQGESDPLDHEPAVSPLLPRKERGPPEGGLNEDERLLPKDKKTNLFSALIKKKKKTAPTPPKRSSSFREMDGQPERRGAGEEEGRDISNGALAFTPLDTADPAKSPKPSNGAGVPNGALRESGGSGFRSPHLWKKSSTLTSSRLATGEEEGGGSSSKRFLRSCSASCVPHGAKDTEWRSVTLPRDLQSTGRQFDSSTFGGHKSEKPALPRKRAGENRSDQVTRGTVTPPPRLVKKNEEAADEVFKDIMESSPGSSPPNLTPKPLRRQVTVAPASGLPHKEEAGKGSALGTPAAAEPVTPTSKAGSGAPGGTSKGPAEESRVRRHKHSSESPGRDKGKLSRLKPAPPPPPAASAGKAGGKPSQSPSQEAAGEAVLGAKTKATSLVDAVNSDAAKPSQPGEGLKKPVLPATPKPQSAKPSGTPISPAPVPSTLPSASSALAGDQPSSTAFIPLISTRVSLRKTRQPPERIASGAITKGVVLDSTEALCLAISRNSEQMASHSAVLEAGKNLYTFCVSYVDSIQQMRNKFAFREAINKLENNLRELQICPATAGSGPAATQDFSKLLSSVKEISDIVQR\n"
     ]
    }
   ],
   "source": [
    "import requests\n",
    "\n",
    "def get_uniprot_sequence(target_chembl_id):\n",
    "    # You might need a mapping from ChEMBL ID to UniProt ID (or find from ChEMBL directly)\n",
    "    # For now, let's assume you have the UniProt ID or use a placeholder\n",
    "    uniprot_id = \"P00519\"  # Example UniProt ID for BCR-ABL (replace accordingly)\n",
    "\n",
    "    url = f\"https://rest.uniprot.org/uniprotkb/{uniprot_id}.fasta\"\n",
    "    response = requests.get(url)\n",
    "    if response.status_code == 200:\n",
    "        fasta = response.text\n",
    "        # Remove header line and join sequence lines\n",
    "        seq = \"\".join(fasta.split(\"\\n\")[1:])\n",
    "        return seq\n",
    "    else:\n",
    "        return None\n",
    "\n",
    "# Example usage for a single target:\n",
    "sequence = get_uniprot_sequence(\"some_chembl_id\")\n",
    "print(sequence)\n",
    "\n"
   ]
  },
  {
   "cell_type": "code",
   "execution_count": 11,
   "id": "2997e72eed258559",
   "metadata": {
    "ExecuteTime": {
     "end_time": "2025-08-09T17:31:41.064633Z",
     "start_time": "2025-08-09T17:31:41.048935Z"
    }
   },
   "outputs": [
    {
     "name": "stdout",
     "output_type": "stream",
     "text": [
      "[0.08584071 0.01238938 0.03716814 0.07964602 0.02566372 0.07787611\n",
      " 0.02123894 0.02920354 0.07256637 0.08495575 0.0159292  0.03539823\n",
      " 0.07964602 0.02920354 0.05663717 0.10619469 0.05752212 0.05486726\n",
      " 0.01150442 0.02654867]\n",
      "Feature vector length: 20\n"
     ]
    }
   ],
   "source": [
    "from collections import Counter\n",
    "import numpy as np\n",
    "\n",
    "def aa_composition(seq):\n",
    "    # Define the 20 standard amino acids\n",
    "    amino_acids = 'ACDEFGHIKLMNPQRSTVWY'\n",
    "    seq_len = len(seq)\n",
    "    counts = Counter(seq)\n",
    "    # Calculate frequency for each amino acid\n",
    "    freq = np.array([counts.get(aa, 0) / seq_len for aa in amino_acids])\n",
    "    return freq\n",
    "\n",
    "# Your protein sequence (example)\n",
    "protein_seq = \"MLEICLKLVGCKSKKGLSSSSSCYLEEALQRPVASDFEPQGLSEAARWNSKENLLAGPSENDPNLFVALYDFVASGDNTLSITKGEKLRVLGYNHNGEWCEAQTKNGQGWVPSNYITPVNSLEKHSWYHGPVSRNAAEYLLSSGINGSFLVRESESSPGQRSISLRYEGRVYHYRINTASDGKLYVSSESRFNTLAELVHHHSTVADGLITTLHYPAPKRNKPTVYGVSPNYDKWEMERTDITMKHKLGGGQYGEVYEGVWKKYSLTVAVKTLKEDTMEVEEFLKEAAVMKEIKHPNLVQLLGVCTREPPFYIITEFMTYGNLLDYLRECNRQEVNAVVLLYMATQISSAMEYLEKKNFIHRDLAARNCLVGENHLVKVADFGLSRLMTGDTYTAHAGAKFPIKWTAPESLAYNKFSIKSDVWAFGVLLWEIATYGMSPYPGIDLSQVYELLEKDYRMERPEGCPEKVYELMRACWQWNPSDRPSFAEIHQAFETMFQESSISDEVEKELGKQGVRGAVSTLLQAPELPTKTRTSRRAAEHRDTTDVPEMPHSKGQGESDPLDHEPAVSPLLPRKERGPPEGGLNEDERLLPKDKKTNLFSALIKKKKKTAPTPPKRSSSFREMDGQPERRGAGEEEGRDISNGALAFTPLDTADPAKSPKPSNGAGVPNGALRESGGSGFRSPHLWKKSSTLTSSRLATGEEEGGGSSSKRFLRSCSASCVPHGAKDTEWRSVTLPRDLQSTGRQFDSSTFGGHKSEKPALPRKRAGENRSDQVTRGTVTPPPRLVKKNEEAADEVFKDIMESSPGSSPPNLTPKPLRRQVTVAPASGLPHKEEAGKGSALGTPAAAEPVTPTSKAGSGAPGGTSKGPAEESRVRRHKHSSESPGRDKGKLSRLKPAPPPPPAASAGKAGGKPSQSPSQEAAGEAVLGAKTKATSLVDAVNSDAAKPSQPGEGLKKPVLPATPKPQSAKPSGTPISPAPVPSTLPSASSALAGDQPSSTAFIPLISTRVSLRKTRQPPERIASGAITKGVVLDSTEALCLAISRNSEQMASHSAVLEAGKNLYTFCVSYVDSIQQMRNKFAFREAINKLENNLRELQICPATAGSGPAATQDFSKLLSSVKEISDIVQR\"\n",
    "\n",
    "protein_features = aa_composition(protein_seq)\n",
    "print(protein_features)\n",
    "print(f\"Feature vector length: {len(protein_features)}\")\n"
   ]
  },
  {
   "cell_type": "code",
   "execution_count": 12,
   "id": "d90cce0fc5c8f816",
   "metadata": {
    "ExecuteTime": {
     "end_time": "2025-08-09T17:32:31.700784Z",
     "start_time": "2025-08-09T17:31:51.536591Z"
    }
   },
   "outputs": [
    {
     "name": "stdout",
     "output_type": "stream",
     "text": [
      "Sequences fetched for 140 out of 233 entries\n"
     ]
    }
   ],
   "source": [
    "import requests\n",
    "import pandas as pd\n",
    "\n",
    "# Your dataframe df_ic50 must already be loaded\n",
    "\n",
    "# Get unique target ChEMBL IDs\n",
    "unique_targets = df_ic50['Target ChEMBL ID'].unique()\n",
    "\n",
    "# Dictionary to store target sequences\n",
    "target_sequences = {}\n",
    "\n",
    "# Loop through each target ID and fetch sequence from ChEMBL API\n",
    "for target_id in unique_targets:\n",
    "    url = f'https://www.ebi.ac.uk/chembl/api/data/target/{target_id}.json'\n",
    "    response = requests.get(url)\n",
    "    if response.status_code == 200:\n",
    "        data = response.json()\n",
    "        # Extract sequence - check if available under target_components\n",
    "        try:\n",
    "            components = data['target_components']\n",
    "            if components and 'accession' in components[0]:\n",
    "                # Get UniProt accession\n",
    "                uniprot_id = components[0]['accession']\n",
    "\n",
    "                # Fetch sequence from UniProt REST API\n",
    "                uniprot_url = f'https://rest.uniprot.org/uniprotkb/{uniprot_id}.fasta'\n",
    "                seq_response = requests.get(uniprot_url)\n",
    "                if seq_response.status_code == 200:\n",
    "                    fasta = seq_response.text\n",
    "                    # Parse FASTA format to get sequence lines (skip header)\n",
    "                    seq_lines = fasta.split('\\n')[1:]\n",
    "                    sequence = ''.join(seq_lines).strip()\n",
    "                    target_sequences[target_id] = sequence\n",
    "                else:\n",
    "                    target_sequences[target_id] = None\n",
    "            else:\n",
    "                target_sequences[target_id] = None\n",
    "        except (KeyError, IndexError):\n",
    "            target_sequences[target_id] = None\n",
    "    else:\n",
    "        target_sequences[target_id] = None\n",
    "\n",
    "# Map sequences back to the dataframe\n",
    "df_ic50['Protein Sequence'] = df_ic50['Target ChEMBL ID'].map(target_sequences)\n",
    "\n",
    "# Check how many sequences are fetched\n",
    "print(f\"Sequences fetched for {df_ic50['Protein Sequence'].notnull().sum()} out of {len(df_ic50)} entries\")\n",
    "\n"
   ]
  },
  {
   "cell_type": "markdown",
   "id": "675a8a00ade3a7a8",
   "metadata": {},
   "source": [
    "## Data Preparation Summary\n",
    "\n",
    "- The dataset consists of **140 samples** after fetching and processing drug-target interaction data.\n",
    "- Each sample contains **2068 features** in total:\n",
    "  - **2048 features** from molecular fingerprints (Morgan fingerprints of radius 2).\n",
    "  - **20 features** from protein sequences (amino acid composition).\n",
    "- Molecular fingerprints were generated using RDKit by converting SMILES strings to bit vectors.\n",
    "- Protein features were computed as normalized amino acid compositions from the protein sequences.\n",
    "- Combined molecular and protein features form the input feature matrix for machine learning.\n",
    "- The dataset is now ready for supervised learning, with bioactivity labels derived from IC50 values (e.g., active if IC50 < 1000 nM).\n"
   ]
  },
  {
   "cell_type": "code",
   "execution_count": 13,
   "id": "c1220d09c814953d",
   "metadata": {
    "ExecuteTime": {
     "end_time": "2025-08-09T17:32:39.620090Z",
     "start_time": "2025-08-09T17:32:39.562135Z"
    }
   },
   "outputs": [
    {
     "name": "stdout",
     "output_type": "stream",
     "text": [
      "Final dataset size: 140 samples with 2068 features each.\n"
     ]
    }
   ],
   "source": [
    "import numpy as np\n",
    "\n",
    "# List of standard amino acids\n",
    "amino_acids = list(\"ACDEFGHIKLMNPQRSTVWY\")\n",
    "\n",
    "def aa_composition(seq):\n",
    "    seq = seq.upper()\n",
    "    length = len(seq)\n",
    "    comp = []\n",
    "    for aa in amino_acids:\n",
    "        comp.append(seq.count(aa) / length if length > 0 else 0)\n",
    "    return np.array(comp)\n",
    "\n",
    "# Apply to protein sequences, create new column 'protein_feat'\n",
    "df_ic50['protein_feat'] = df_ic50['Protein Sequence'].apply(lambda x: aa_composition(x) if isinstance(x, str) else np.nan)\n",
    "\n",
    "# Drop rows with missing fingerprints or protein features\n",
    "df_clean = df_ic50.dropna(subset=['fp_array', 'protein_feat'])\n",
    "\n",
    "# Prepare X and y for ML\n",
    "X_mol = np.stack(df_clean['fp_array'].values)\n",
    "X_prot = np.stack(df_clean['protein_feat'].values)\n",
    "X = np.hstack([X_mol, X_prot])\n",
    "\n",
    "# Binary labels: active if IC50 < 1000 nM else inactive\n",
    "y = (df_clean['Standard Value'].astype(float) < 1000).astype(int)\n",
    "\n",
    "print(f\"Final dataset size: {X.shape[0]} samples with {X.shape[1]} features each.\")\n"
   ]
  },
  {
   "cell_type": "markdown",
   "id": "a9e53c728e7dade8",
   "metadata": {},
   "source": [
    "## Modeling and Performance Summary\n",
    "In this step, we trained a predictive classification model to distinguish active from inactive compounds using combined molecular fingerprints and protein features. Due to class imbalance in the dataset, we applied SMOTE oversampling on the training set to synthetically balance minority class samples. Among several algorithms tested, Random Forest combined with SMOTE provided the best performance, achieving an overall accuracy of 75% and a ROC-AUC of approximately 0.53. The model demonstrated strong ability to correctly identify active compounds, though its performance on inactive compounds was lower, suggesting potential for further improvement. This approach lays a solid foundation for effective drug-target activity prediction while highlighting areas for future refinement."
   ]
  },
  {
   "cell_type": "code",
   "execution_count": 14,
   "id": "be986179bc8bc09f",
   "metadata": {
    "ExecuteTime": {
     "end_time": "2025-08-09T17:33:03.473664Z",
     "start_time": "2025-08-09T17:32:46.832279Z"
    }
   },
   "outputs": [
    {
     "name": "stdout",
     "output_type": "stream",
     "text": [
      "              precision    recall  f1-score   support\n",
      "\n",
      "           0       0.67      0.25      0.36         8\n",
      "           1       0.76      0.95      0.84        20\n",
      "\n",
      "    accuracy                           0.75        28\n",
      "   macro avg       0.71      0.60      0.60        28\n",
      "weighted avg       0.73      0.75      0.71        28\n",
      "\n",
      "ROC-AUC Score: 0.5249999999999999\n"
     ]
    }
   ],
   "source": [
    "from imblearn.over_sampling import SMOTE\n",
    "from sklearn.ensemble import RandomForestClassifier\n",
    "from sklearn.metrics import classification_report, roc_auc_score\n",
    "from sklearn.model_selection import train_test_split\n",
    "\n",
    "# Split data\n",
    "X_train, X_test, y_train, y_test = train_test_split(X, y, test_size=0.2, random_state=42, stratify=y)\n",
    "\n",
    "# Apply SMOTE to training data only\n",
    "sm = SMOTE(random_state=42)\n",
    "X_train_res, y_train_res = sm.fit_resample(X_train, y_train)\n",
    "\n",
    "# Train Random Forest\n",
    "clf = RandomForestClassifier(n_estimators=100, random_state=42)\n",
    "clf.fit(X_train_res, y_train_res)\n",
    "\n",
    "# Predict & evaluate\n",
    "y_pred = clf.predict(X_test)\n",
    "y_proba = clf.predict_proba(X_test)[:,1]\n",
    "\n",
    "print(classification_report(y_test, y_pred))\n",
    "print(\"ROC-AUC Score:\", roc_auc_score(y_test, y_proba))\n",
    "\n"
   ]
  },
  {
   "cell_type": "markdown",
   "id": "bc58612c0db56e27",
   "metadata": {},
   "source": [
    "## Model Comparison: Random Forest vs. Support Vector Machine\n",
    "\n",
    "To ensure robustness and explore different learning approaches, we evaluated both Random Forest and Support Vector Machine (SVM) classifiers on our dataset. While Random Forest demonstrated superior performance in terms of accuracy, F1-score, and ROC-AUC, the SVM model was included as a comparative baseline to highlight differences in classification behavior. Including SVM helped validate that the chosen Random Forest model was the most suitable for this particular bioinformatics classification task, providing confidence in the reliability of the results.\n"
   ]
  },
  {
   "cell_type": "code",
   "execution_count": 15,
   "id": "104e4f6f3ae0146b",
   "metadata": {
    "ExecuteTime": {
     "end_time": "2025-08-09T17:33:49.421536Z",
     "start_time": "2025-08-09T17:33:13.746433Z"
    }
   },
   "outputs": [
    {
     "name": "stdout",
     "output_type": "stream",
     "text": [
      "Best Parameters: {'C': 0.1, 'class_weight': None, 'gamma': 1, 'kernel': 'rbf'}\n",
      "              precision    recall  f1-score   support\n",
      "\n",
      "           0       0.31      1.00      0.47         8\n",
      "           1       1.00      0.10      0.18        20\n",
      "\n",
      "    accuracy                           0.36        28\n",
      "   macro avg       0.65      0.55      0.33        28\n",
      "weighted avg       0.80      0.36      0.26        28\n",
      "\n",
      "ROC-AUC Score: 0.45\n"
     ]
    }
   ],
   "source": [
    "from sklearn.model_selection import GridSearchCV, train_test_split\n",
    "from sklearn.svm import SVC\n",
    "from sklearn.metrics import classification_report, roc_auc_score\n",
    "from imblearn.over_sampling import SMOTE\n",
    "\n",
    "# Split data\n",
    "X_train, X_test, y_train, y_test = train_test_split(\n",
    "    X, y, test_size=0.2, random_state=42, stratify=y\n",
    ")\n",
    "\n",
    "# SMOTE only on training data\n",
    "sm = SMOTE(random_state=42)\n",
    "X_train_res, y_train_res = sm.fit_resample(X_train, y_train)\n",
    "\n",
    "# Define parameter grid\n",
    "param_grid = {\n",
    "    'C': [0.1, 1, 10, 100],\n",
    "    'gamma': ['scale', 0.01, 0.1, 1],\n",
    "    'kernel': ['rbf'],\n",
    "    'class_weight': [None, 'balanced']\n",
    "}\n",
    "\n",
    "# Grid Search with cross-validation\n",
    "svm = SVC(probability=True, random_state=42)\n",
    "grid = GridSearchCV(svm, param_grid, cv=5, scoring='roc_auc', n_jobs=-1)\n",
    "grid.fit(X_train_res, y_train_res)\n",
    "\n",
    "# Best parameters\n",
    "print(\"Best Parameters:\", grid.best_params_)\n",
    "\n",
    "# Evaluate best model\n",
    "best_svm = grid.best_estimator_\n",
    "y_pred = best_svm.predict(X_test)\n",
    "y_proba = best_svm.predict_proba(X_test)[:, 1]\n",
    "\n",
    "print(classification_report(y_test, y_pred))\n",
    "print(\"ROC-AUC Score:\", roc_auc_score(y_test, y_proba))\n",
    "\n"
   ]
  }
 ],
 "metadata": {
  "kernelspec": {
   "display_name": "base",
   "language": "python",
   "name": "python3"
  },
  "language_info": {
   "name": "python",
   "version": "3.13.5"
  }
 },
 "nbformat": 5,
 "nbformat_minor": 9
}
